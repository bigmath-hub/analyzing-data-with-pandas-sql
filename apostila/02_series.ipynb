{
 "cells": [
  {
   "cell_type": "code",
   "execution_count": 22,
   "id": "e40286f6",
   "metadata": {},
   "outputs": [],
   "source": [
    "# importanto bibliotecas\n",
    "import pandas as pd\n",
    "import numpy as np"
   ]
  },
  {
   "cell_type": "code",
   "execution_count": 23,
   "id": "0176e8fe",
   "metadata": {},
   "outputs": [],
   "source": [
    "labels = ['a', 'b', 'c']\n",
    "minha_lista = [10, 20, 30]\n",
    "arr = np.array([10, 20, 30])\n",
    "d = {'a': 10, 'b': 20, 'c': 30}"
   ]
  },
  {
   "cell_type": "code",
   "execution_count": 24,
   "id": "8b61bbe9",
   "metadata": {},
   "outputs": [
    {
     "data": {
      "text/plain": [
       "10    a\n",
       "20    b\n",
       "30    c\n",
       "dtype: object"
      ]
     },
     "execution_count": 24,
     "metadata": {},
     "output_type": "execute_result"
    }
   ],
   "source": [
    "# Os itens da lista ‘labels’, definidos anteriormente, agora estão organizados como uma coluna\n",
    "pd.Series(data=labels, index=minha_lista)"
   ]
  },
  {
   "cell_type": "code",
   "execution_count": 25,
   "id": "6a6f15a4",
   "metadata": {},
   "outputs": [
    {
     "data": {
      "text/plain": [
       "a    10\n",
       "b    20\n",
       "c    30\n",
       "dtype: int64"
      ]
     },
     "execution_count": 25,
     "metadata": {},
     "output_type": "execute_result"
    }
   ],
   "source": [
    "pd.Series(d)"
   ]
  },
  {
   "cell_type": "code",
   "execution_count": 26,
   "id": "984837f2",
   "metadata": {},
   "outputs": [],
   "source": [
    "ser1 = pd.Series([1,2,3,4], index=['EUA', 'Alemanha', 'Italia', 'Japão'])"
   ]
  },
  {
   "cell_type": "code",
   "execution_count": null,
   "id": "588aab44",
   "metadata": {},
   "outputs": [
    {
     "name": "stderr",
     "output_type": "stream",
     "text": [
      "/tmp/ipykernel_5518/3210674954.py:1: FutureWarning: Series.__getitem__ treating keys as positions is deprecated. In a future version, integer keys will always be treated as labels (consistent with DataFrame behavior). To access a value by position, use `ser.iloc[pos]`\n",
      "  ser1[0]\n"
     ]
    },
    {
     "data": {
      "text/plain": [
       "np.int64(1)"
      ]
     },
     "execution_count": 35,
     "metadata": {},
     "output_type": "execute_result"
    }
   ],
   "source": []
  },
  {
   "cell_type": "code",
   "execution_count": 50,
   "id": "6ac57947",
   "metadata": {},
   "outputs": [],
   "source": [
    "march = pd.Series(\n",
    "    data=[22, 334, 922, 83],\n",
    "    index=['School', 'Groceries', 'Laptop', 'Uber']\n",
    ")"
   ]
  },
  {
   "cell_type": "code",
   "execution_count": 51,
   "id": "3c85771e",
   "metadata": {},
   "outputs": [
    {
     "data": {
      "text/plain": [
       "School    22\n",
       "Uber      83\n",
       "dtype: int64"
      ]
     },
     "execution_count": 51,
     "metadata": {},
     "output_type": "execute_result"
    }
   ],
   "source": [
    "march[['School', 'Uber']]"
   ]
  },
  {
   "cell_type": "code",
   "execution_count": null,
   "id": "af86e54e",
   "metadata": {},
   "outputs": [],
   "source": []
  }
 ],
 "metadata": {
  "kernelspec": {
   "display_name": "envPy101",
   "language": "python",
   "name": "python3"
  },
  "language_info": {
   "codemirror_mode": {
    "name": "ipython",
    "version": 3
   },
   "file_extension": ".py",
   "mimetype": "text/x-python",
   "name": "python",
   "nbconvert_exporter": "python",
   "pygments_lexer": "ipython3",
   "version": "3.12.3"
  }
 },
 "nbformat": 4,
 "nbformat_minor": 5
}
