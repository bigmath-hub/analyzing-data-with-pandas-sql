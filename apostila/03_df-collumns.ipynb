{
 "cells": [
  {
   "cell_type": "code",
   "execution_count": 9,
   "id": "bbe99327",
   "metadata": {},
   "outputs": [],
   "source": [
    "import pandas as pd\n",
    "from numpy.random import randn"
   ]
  },
  {
   "cell_type": "code",
   "execution_count": 10,
   "id": "7e6d575b",
   "metadata": {},
   "outputs": [],
   "source": [
    "df = pd.DataFrame(data=randn(5,4), index=[\"A\", \"B\", \"C\", \"D\", \"E\"], columns=\"W X Y Z\".split())"
   ]
  },
  {
   "cell_type": "code",
   "execution_count": 11,
   "id": "d8c07987",
   "metadata": {},
   "outputs": [
    {
     "data": {
      "text/html": [
       "<div>\n",
       "<style scoped>\n",
       "    .dataframe tbody tr th:only-of-type {\n",
       "        vertical-align: middle;\n",
       "    }\n",
       "\n",
       "    .dataframe tbody tr th {\n",
       "        vertical-align: top;\n",
       "    }\n",
       "\n",
       "    .dataframe thead th {\n",
       "        text-align: right;\n",
       "    }\n",
       "</style>\n",
       "<table border=\"1\" class=\"dataframe\">\n",
       "  <thead>\n",
       "    <tr style=\"text-align: right;\">\n",
       "      <th></th>\n",
       "      <th>W</th>\n",
       "      <th>X</th>\n",
       "      <th>Y</th>\n",
       "      <th>Z</th>\n",
       "    </tr>\n",
       "  </thead>\n",
       "  <tbody>\n",
       "    <tr>\n",
       "      <th>A</th>\n",
       "      <td>-0.265991</td>\n",
       "      <td>-1.231329</td>\n",
       "      <td>0.719378</td>\n",
       "      <td>-0.308289</td>\n",
       "    </tr>\n",
       "    <tr>\n",
       "      <th>B</th>\n",
       "      <td>0.782727</td>\n",
       "      <td>0.662419</td>\n",
       "      <td>-0.499748</td>\n",
       "      <td>-1.637412</td>\n",
       "    </tr>\n",
       "    <tr>\n",
       "      <th>C</th>\n",
       "      <td>0.575917</td>\n",
       "      <td>1.900822</td>\n",
       "      <td>0.266721</td>\n",
       "      <td>-3.110474</td>\n",
       "    </tr>\n",
       "    <tr>\n",
       "      <th>D</th>\n",
       "      <td>1.076947</td>\n",
       "      <td>-0.411814</td>\n",
       "      <td>0.037088</td>\n",
       "      <td>0.004946</td>\n",
       "    </tr>\n",
       "    <tr>\n",
       "      <th>E</th>\n",
       "      <td>-0.257420</td>\n",
       "      <td>1.556351</td>\n",
       "      <td>-0.258730</td>\n",
       "      <td>-2.855938</td>\n",
       "    </tr>\n",
       "  </tbody>\n",
       "</table>\n",
       "</div>"
      ],
      "text/plain": [
       "          W         X         Y         Z\n",
       "A -0.265991 -1.231329  0.719378 -0.308289\n",
       "B  0.782727  0.662419 -0.499748 -1.637412\n",
       "C  0.575917  1.900822  0.266721 -3.110474\n",
       "D  1.076947 -0.411814  0.037088  0.004946\n",
       "E -0.257420  1.556351 -0.258730 -2.855938"
      ]
     },
     "execution_count": 11,
     "metadata": {},
     "output_type": "execute_result"
    }
   ],
   "source": [
    "df"
   ]
  },
  {
   "cell_type": "code",
   "execution_count": 31,
   "id": "d2f3373b",
   "metadata": {},
   "outputs": [],
   "source": [
    "ser2 = pd.Series(data=randn(5), index=['EUA', 'Alemanha', 'Italia', 'Japão', 'KSA'])\n"
   ]
  },
  {
   "cell_type": "code",
   "execution_count": 38,
   "id": "9c51de36",
   "metadata": {},
   "outputs": [],
   "source": [
    "df2 = pd.DataFrame(data=ser2, columns=['GPD'])"
   ]
  },
  {
   "cell_type": "code",
   "execution_count": 39,
   "id": "e89dc8d8",
   "metadata": {},
   "outputs": [
    {
     "data": {
      "text/html": [
       "<div>\n",
       "<style scoped>\n",
       "    .dataframe tbody tr th:only-of-type {\n",
       "        vertical-align: middle;\n",
       "    }\n",
       "\n",
       "    .dataframe tbody tr th {\n",
       "        vertical-align: top;\n",
       "    }\n",
       "\n",
       "    .dataframe thead th {\n",
       "        text-align: right;\n",
       "    }\n",
       "</style>\n",
       "<table border=\"1\" class=\"dataframe\">\n",
       "  <thead>\n",
       "    <tr style=\"text-align: right;\">\n",
       "      <th></th>\n",
       "      <th>GPD</th>\n",
       "    </tr>\n",
       "  </thead>\n",
       "  <tbody>\n",
       "    <tr>\n",
       "      <th>EUA</th>\n",
       "      <td>0.698141</td>\n",
       "    </tr>\n",
       "    <tr>\n",
       "      <th>Alemanha</th>\n",
       "      <td>-0.827064</td>\n",
       "    </tr>\n",
       "    <tr>\n",
       "      <th>Italia</th>\n",
       "      <td>-0.079680</td>\n",
       "    </tr>\n",
       "    <tr>\n",
       "      <th>Japão</th>\n",
       "      <td>0.374929</td>\n",
       "    </tr>\n",
       "    <tr>\n",
       "      <th>KSA</th>\n",
       "      <td>1.445731</td>\n",
       "    </tr>\n",
       "  </tbody>\n",
       "</table>\n",
       "</div>"
      ],
      "text/plain": [
       "               GPD\n",
       "EUA       0.698141\n",
       "Alemanha -0.827064\n",
       "Italia   -0.079680\n",
       "Japão     0.374929\n",
       "KSA       1.445731"
      ]
     },
     "execution_count": 39,
     "metadata": {},
     "output_type": "execute_result"
    }
   ],
   "source": [
    "df2"
   ]
  },
  {
   "cell_type": "code",
   "execution_count": 40,
   "id": "3262cc67",
   "metadata": {},
   "outputs": [
    {
     "data": {
      "text/plain": [
       "EUA         0.698141\n",
       "Alemanha   -0.827064\n",
       "Italia     -0.079680\n",
       "Japão       0.374929\n",
       "KSA         1.445731\n",
       "dtype: float64"
      ]
     },
     "execution_count": 40,
     "metadata": {},
     "output_type": "execute_result"
    }
   ],
   "source": [
    "ser2"
   ]
  },
  {
   "cell_type": "code",
   "execution_count": 49,
   "id": "59a4da7b",
   "metadata": {},
   "outputs": [],
   "source": [
    "df['A'] = pd.Series(data=randn(5), index=[\"A\", \"B\", \"C\", \"D\", \"E\"])"
   ]
  },
  {
   "cell_type": "code",
   "execution_count": 50,
   "id": "325b39d2",
   "metadata": {},
   "outputs": [
    {
     "data": {
      "text/html": [
       "<div>\n",
       "<style scoped>\n",
       "    .dataframe tbody tr th:only-of-type {\n",
       "        vertical-align: middle;\n",
       "    }\n",
       "\n",
       "    .dataframe tbody tr th {\n",
       "        vertical-align: top;\n",
       "    }\n",
       "\n",
       "    .dataframe thead th {\n",
       "        text-align: right;\n",
       "    }\n",
       "</style>\n",
       "<table border=\"1\" class=\"dataframe\">\n",
       "  <thead>\n",
       "    <tr style=\"text-align: right;\">\n",
       "      <th></th>\n",
       "      <th>W</th>\n",
       "      <th>X</th>\n",
       "      <th>Y</th>\n",
       "      <th>Z</th>\n",
       "      <th>A</th>\n",
       "    </tr>\n",
       "  </thead>\n",
       "  <tbody>\n",
       "    <tr>\n",
       "      <th>A</th>\n",
       "      <td>-0.265991</td>\n",
       "      <td>-1.231329</td>\n",
       "      <td>0.719378</td>\n",
       "      <td>-0.308289</td>\n",
       "      <td>1.379588</td>\n",
       "    </tr>\n",
       "    <tr>\n",
       "      <th>B</th>\n",
       "      <td>0.782727</td>\n",
       "      <td>0.662419</td>\n",
       "      <td>-0.499748</td>\n",
       "      <td>-1.637412</td>\n",
       "      <td>-0.856977</td>\n",
       "    </tr>\n",
       "    <tr>\n",
       "      <th>C</th>\n",
       "      <td>0.575917</td>\n",
       "      <td>1.900822</td>\n",
       "      <td>0.266721</td>\n",
       "      <td>-3.110474</td>\n",
       "      <td>0.857179</td>\n",
       "    </tr>\n",
       "    <tr>\n",
       "      <th>D</th>\n",
       "      <td>1.076947</td>\n",
       "      <td>-0.411814</td>\n",
       "      <td>0.037088</td>\n",
       "      <td>0.004946</td>\n",
       "      <td>-0.698881</td>\n",
       "    </tr>\n",
       "    <tr>\n",
       "      <th>E</th>\n",
       "      <td>-0.257420</td>\n",
       "      <td>1.556351</td>\n",
       "      <td>-0.258730</td>\n",
       "      <td>-2.855938</td>\n",
       "      <td>0.175116</td>\n",
       "    </tr>\n",
       "  </tbody>\n",
       "</table>\n",
       "</div>"
      ],
      "text/plain": [
       "          W         X         Y         Z         A\n",
       "A -0.265991 -1.231329  0.719378 -0.308289  1.379588\n",
       "B  0.782727  0.662419 -0.499748 -1.637412 -0.856977\n",
       "C  0.575917  1.900822  0.266721 -3.110474  0.857179\n",
       "D  1.076947 -0.411814  0.037088  0.004946 -0.698881\n",
       "E -0.257420  1.556351 -0.258730 -2.855938  0.175116"
      ]
     },
     "execution_count": 50,
     "metadata": {},
     "output_type": "execute_result"
    }
   ],
   "source": [
    "df"
   ]
  },
  {
   "cell_type": "code",
   "execution_count": 63,
   "id": "61351128",
   "metadata": {},
   "outputs": [],
   "source": [
    "index = ['matthew', 'mark', 'luke', 'jhon', 'paul']\n",
    "df3 = pd.DataFrame(\n",
    "    {'Salary': pd.Series(data=randn(5), index=index),\n",
    "    'Utilities': pd.Series(data=randn(5), index=index)}\n",
    ")"
   ]
  },
  {
   "cell_type": "code",
   "execution_count": 64,
   "id": "d11ffff7",
   "metadata": {},
   "outputs": [
    {
     "data": {
      "text/html": [
       "<div>\n",
       "<style scoped>\n",
       "    .dataframe tbody tr th:only-of-type {\n",
       "        vertical-align: middle;\n",
       "    }\n",
       "\n",
       "    .dataframe tbody tr th {\n",
       "        vertical-align: top;\n",
       "    }\n",
       "\n",
       "    .dataframe thead th {\n",
       "        text-align: right;\n",
       "    }\n",
       "</style>\n",
       "<table border=\"1\" class=\"dataframe\">\n",
       "  <thead>\n",
       "    <tr style=\"text-align: right;\">\n",
       "      <th></th>\n",
       "      <th>Salary</th>\n",
       "      <th>Utilities</th>\n",
       "    </tr>\n",
       "  </thead>\n",
       "  <tbody>\n",
       "    <tr>\n",
       "      <th>matthew</th>\n",
       "      <td>0.997701</td>\n",
       "      <td>-0.306918</td>\n",
       "    </tr>\n",
       "    <tr>\n",
       "      <th>mark</th>\n",
       "      <td>-0.538284</td>\n",
       "      <td>1.087074</td>\n",
       "    </tr>\n",
       "    <tr>\n",
       "      <th>luke</th>\n",
       "      <td>-1.033267</td>\n",
       "      <td>1.597872</td>\n",
       "    </tr>\n",
       "    <tr>\n",
       "      <th>jhon</th>\n",
       "      <td>0.525200</td>\n",
       "      <td>0.453594</td>\n",
       "    </tr>\n",
       "    <tr>\n",
       "      <th>paul</th>\n",
       "      <td>0.917773</td>\n",
       "      <td>-1.829887</td>\n",
       "    </tr>\n",
       "  </tbody>\n",
       "</table>\n",
       "</div>"
      ],
      "text/plain": [
       "           Salary  Utilities\n",
       "matthew  0.997701  -0.306918\n",
       "mark    -0.538284   1.087074\n",
       "luke    -1.033267   1.597872\n",
       "jhon     0.525200   0.453594\n",
       "paul     0.917773  -1.829887"
      ]
     },
     "execution_count": 64,
     "metadata": {},
     "output_type": "execute_result"
    }
   ],
   "source": [
    "df3"
   ]
  },
  {
   "cell_type": "code",
   "execution_count": 68,
   "id": "1b651c5f",
   "metadata": {},
   "outputs": [],
   "source": [
    "df4 = pd.DataFrame(data=randn(4), index=['matthew', 'mark', 'luke', 'jhon'], columns=['book_pages'])"
   ]
  },
  {
   "cell_type": "code",
   "execution_count": 69,
   "id": "00953b89",
   "metadata": {},
   "outputs": [
    {
     "data": {
      "text/html": [
       "<div>\n",
       "<style scoped>\n",
       "    .dataframe tbody tr th:only-of-type {\n",
       "        vertical-align: middle;\n",
       "    }\n",
       "\n",
       "    .dataframe tbody tr th {\n",
       "        vertical-align: top;\n",
       "    }\n",
       "\n",
       "    .dataframe thead th {\n",
       "        text-align: right;\n",
       "    }\n",
       "</style>\n",
       "<table border=\"1\" class=\"dataframe\">\n",
       "  <thead>\n",
       "    <tr style=\"text-align: right;\">\n",
       "      <th></th>\n",
       "      <th>book_pages</th>\n",
       "    </tr>\n",
       "  </thead>\n",
       "  <tbody>\n",
       "    <tr>\n",
       "      <th>matthew</th>\n",
       "      <td>0.377523</td>\n",
       "    </tr>\n",
       "    <tr>\n",
       "      <th>mark</th>\n",
       "      <td>1.608833</td>\n",
       "    </tr>\n",
       "    <tr>\n",
       "      <th>luke</th>\n",
       "      <td>0.272028</td>\n",
       "    </tr>\n",
       "    <tr>\n",
       "      <th>jhon</th>\n",
       "      <td>1.293362</td>\n",
       "    </tr>\n",
       "  </tbody>\n",
       "</table>\n",
       "</div>"
      ],
      "text/plain": [
       "         book_pages\n",
       "matthew    0.377523\n",
       "mark       1.608833\n",
       "luke       0.272028\n",
       "jhon       1.293362"
      ]
     },
     "execution_count": 69,
     "metadata": {},
     "output_type": "execute_result"
    }
   ],
   "source": [
    "df4"
   ]
  },
  {
   "cell_type": "code",
   "execution_count": 71,
   "id": "833b7adf",
   "metadata": {},
   "outputs": [
    {
     "data": {
      "text/plain": [
       "beef       150\n",
       "chicken    165\n",
       "rice        23\n",
       "butter      47\n",
       "tip         12\n",
       "dtype: int64"
      ]
     },
     "execution_count": 71,
     "metadata": {},
     "output_type": "execute_result"
    }
   ],
   "source": [
    "pd.Series(data=[150, 165, 23, 47, 12], index=['beef', 'chicken', 'rice', 'butter', 'tip'])"
   ]
  },
  {
   "cell_type": "code",
   "execution_count": 88,
   "id": "a658a7b7",
   "metadata": {},
   "outputs": [],
   "source": [
    "df5 = pd.DataFrame(data=[150, 165, 23, 47, 12], index=['beef', 'chicken', 'rice', 'butter', 'tip'], columns=['Groceries'])"
   ]
  },
  {
   "cell_type": "code",
   "execution_count": 89,
   "id": "9eba6a1e",
   "metadata": {},
   "outputs": [],
   "source": [
    "df5['panda'] = pd.Series(data=[1520, 65, 223, 4, 2], index=['beef', 'chicken', 'rice', 'butter', 'tip'])"
   ]
  },
  {
   "cell_type": "code",
   "execution_count": 90,
   "id": "a40a6bef",
   "metadata": {},
   "outputs": [
    {
     "data": {
      "text/html": [
       "<div>\n",
       "<style scoped>\n",
       "    .dataframe tbody tr th:only-of-type {\n",
       "        vertical-align: middle;\n",
       "    }\n",
       "\n",
       "    .dataframe tbody tr th {\n",
       "        vertical-align: top;\n",
       "    }\n",
       "\n",
       "    .dataframe thead th {\n",
       "        text-align: right;\n",
       "    }\n",
       "</style>\n",
       "<table border=\"1\" class=\"dataframe\">\n",
       "  <thead>\n",
       "    <tr style=\"text-align: right;\">\n",
       "      <th></th>\n",
       "      <th>Groceries</th>\n",
       "      <th>panda</th>\n",
       "    </tr>\n",
       "  </thead>\n",
       "  <tbody>\n",
       "    <tr>\n",
       "      <th>beef</th>\n",
       "      <td>150</td>\n",
       "      <td>1520</td>\n",
       "    </tr>\n",
       "    <tr>\n",
       "      <th>chicken</th>\n",
       "      <td>165</td>\n",
       "      <td>65</td>\n",
       "    </tr>\n",
       "    <tr>\n",
       "      <th>rice</th>\n",
       "      <td>23</td>\n",
       "      <td>223</td>\n",
       "    </tr>\n",
       "    <tr>\n",
       "      <th>butter</th>\n",
       "      <td>47</td>\n",
       "      <td>4</td>\n",
       "    </tr>\n",
       "    <tr>\n",
       "      <th>tip</th>\n",
       "      <td>12</td>\n",
       "      <td>2</td>\n",
       "    </tr>\n",
       "  </tbody>\n",
       "</table>\n",
       "</div>"
      ],
      "text/plain": [
       "         Groceries  panda\n",
       "beef           150   1520\n",
       "chicken        165     65\n",
       "rice            23    223\n",
       "butter          47      4\n",
       "tip             12      2"
      ]
     },
     "execution_count": 90,
     "metadata": {},
     "output_type": "execute_result"
    }
   ],
   "source": [
    "df5"
   ]
  },
  {
   "cell_type": "code",
   "execution_count": 92,
   "id": "75ebd7e8",
   "metadata": {},
   "outputs": [
    {
     "data": {
      "text/html": [
       "<div>\n",
       "<style scoped>\n",
       "    .dataframe tbody tr th:only-of-type {\n",
       "        vertical-align: middle;\n",
       "    }\n",
       "\n",
       "    .dataframe tbody tr th {\n",
       "        vertical-align: top;\n",
       "    }\n",
       "\n",
       "    .dataframe thead th {\n",
       "        text-align: right;\n",
       "    }\n",
       "</style>\n",
       "<table border=\"1\" class=\"dataframe\">\n",
       "  <thead>\n",
       "    <tr style=\"text-align: right;\">\n",
       "      <th></th>\n",
       "      <th>Groceries</th>\n",
       "    </tr>\n",
       "  </thead>\n",
       "  <tbody>\n",
       "    <tr>\n",
       "      <th>beef</th>\n",
       "      <td>1520</td>\n",
       "    </tr>\n",
       "    <tr>\n",
       "      <th>chicken</th>\n",
       "      <td>65</td>\n",
       "    </tr>\n",
       "    <tr>\n",
       "      <th>rice</th>\n",
       "      <td>223</td>\n",
       "    </tr>\n",
       "    <tr>\n",
       "      <th>butter</th>\n",
       "      <td>4</td>\n",
       "    </tr>\n",
       "    <tr>\n",
       "      <th>tip</th>\n",
       "      <td>2</td>\n",
       "    </tr>\n",
       "  </tbody>\n",
       "</table>\n",
       "</div>"
      ],
      "text/plain": [
       "         Groceries\n",
       "beef          1520\n",
       "chicken         65\n",
       "rice           223\n",
       "butter           4\n",
       "tip              2"
      ]
     },
     "execution_count": 92,
     "metadata": {},
     "output_type": "execute_result"
    }
   ],
   "source": [
    "pd.DataFrame({\n",
    "    'Groceries': df5['panda']\n",
    "})"
   ]
  },
  {
   "cell_type": "code",
   "execution_count": null,
   "id": "a8733589",
   "metadata": {},
   "outputs": [],
   "source": []
  }
 ],
 "metadata": {
  "kernelspec": {
   "display_name": "envPy101",
   "language": "python",
   "name": "python3"
  },
  "language_info": {
   "codemirror_mode": {
    "name": "ipython",
    "version": 3
   },
   "file_extension": ".py",
   "mimetype": "text/x-python",
   "name": "python",
   "nbconvert_exporter": "python",
   "pygments_lexer": "ipython3",
   "version": "3.12.3"
  }
 },
 "nbformat": 4,
 "nbformat_minor": 5
}
