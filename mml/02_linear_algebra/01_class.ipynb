{
 "cells": [
  {
   "cell_type": "markdown",
   "id": "6876378b",
   "metadata": {},
   "source": [
    "# Capítulo 2: Criando uma Matriz de Dados com NumPy"
   ]
  },
  {
   "cell_type": "code",
   "execution_count": 4,
   "id": "aba55ea9",
   "metadata": {},
   "outputs": [],
   "source": [
    "import pandas as pd\n",
    "import numpy as np"
   ]
  },
  {
   "cell_type": "code",
   "execution_count": 2,
   "id": "eadc4e37",
   "metadata": {},
   "outputs": [],
   "source": [
    "X = np.array([\n",
    "    [120,8],\n",
    "    [95, 7],\n",
    "    [150, 9]\n",
    "])"
   ]
  },
  {
   "cell_type": "code",
   "execution_count": 6,
   "id": "8f19c4a1",
   "metadata": {},
   "outputs": [
    {
     "name": "stdout",
     "output_type": "stream",
     "text": [
      "(3, 2)\n",
      "int64\n"
     ]
    }
   ],
   "source": [
    "print(X.shape)\n",
    "print(X.dtype)\n"
   ]
  },
  {
   "cell_type": "code",
   "execution_count": null,
   "id": "d87cd8cb",
   "metadata": {},
   "outputs": [
    {
     "name": "stdout",
     "output_type": "stream",
     "text": [
      "7\n",
      "7\n"
     ]
    }
   ],
   "source": [
    "\"\"\"Digamos que queremos a nota do segundo filme (o Filme B, que tem os dados [95, 7]). \n",
    "Sabendo que em Python a contagem de índices sempre começa do zero (índice 0, 1, 2, ...), \n",
    "qual seria o comando para selecionar apenas o número 7 da sua matriz X?\"\"\"\n",
    "print(X[1][1])\n",
    "print(X[1, 1]) # os usuários de NumPy geralmente usam uma vírgula dentro de um único par de colchetes"
   ]
  },
  {
   "cell_type": "code",
   "execution_count": null,
   "id": "6f2206fb",
   "metadata": {},
   "outputs": [
    {
     "name": "stdout",
     "output_type": "stream",
     "text": [
      "[120   8]\n"
     ]
    }
   ],
   "source": [
    "\"\"\"E como um desafio complementar: se você quisesse pegar todas as informações do primeiro filme (o Filme A), \n",
    "ou seja, a primeira linha inteira [120, 8], como você faria isso?\"\"\"\n",
    "print(X[0])"
   ]
  },
  {
   "cell_type": "code",
   "execution_count": null,
   "id": "dcbabfaa",
   "metadata": {},
   "outputs": [
    {
     "name": "stdout",
     "output_type": "stream",
     "text": [
      "[120  95 150]\n"
     ]
    }
   ],
   "source": [
    "\"\"\"Imagine que queremos analisar apenas a duração de todos os filmes. \n",
    "Em outras palavras, como podemos selecionar a primeira coluna inteira da nossa matriz X?\"\"\"\n",
    "print(X[:, 0]) # usei no google: numpy how to get column"
   ]
  },
  {
   "cell_type": "code",
   "execution_count": null,
   "id": "6aaa2804",
   "metadata": {},
   "outputs": [
    {
     "name": "stdout",
     "output_type": "stream",
     "text": [
      "[2.   1.58 2.5 ]\n"
     ]
    }
   ],
   "source": [
    "\"\"\"A nossa coluna de durações ([120, 95, 150]) está em minutos. \n",
    "Como você usaria o NumPy para criar um novo vetor, digamos duracao_horas, \n",
    "que contenha essas mesmas durações, mas convertidas para horas?\"\"\"\n",
    "X_col = X[:, 0]\n",
    "duracao_horas = np.around((X_col/60), 2) # digitei no google: format numpy array to 2 decimal places para melhor apresentacao\n",
    "print(duracao_horas)"
   ]
  },
  {
   "cell_type": "code",
   "execution_count": null,
   "id": "87f40407",
   "metadata": {},
   "outputs": [],
   "source": []
  }
 ],
 "metadata": {
  "kernelspec": {
   "display_name": "Python 3",
   "language": "python",
   "name": "python3"
  },
  "language_info": {
   "codemirror_mode": {
    "name": "ipython",
    "version": 3
   },
   "file_extension": ".py",
   "mimetype": "text/x-python",
   "name": "python",
   "nbconvert_exporter": "python",
   "pygments_lexer": "ipython3",
   "version": "3.12.1"
  }
 },
 "nbformat": 4,
 "nbformat_minor": 5
}
