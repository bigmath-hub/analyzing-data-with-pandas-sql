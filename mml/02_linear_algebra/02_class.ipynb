{
 "cells": [
  {
   "cell_type": "markdown",
   "id": "42a33620",
   "metadata": {},
   "source": [
    "## Linear Mapping\n",
    "\n",
    "In the following, we will study mappings on vector spaces"
   ]
  },
  {
   "cell_type": "code",
   "execution_count": 11,
   "id": "ad6bf76f",
   "metadata": {},
   "outputs": [],
   "source": [
    "# Import libraries\n",
    "import numpy as np"
   ]
  },
  {
   "cell_type": "code",
   "execution_count": 12,
   "id": "a9e2e6b2",
   "metadata": {},
   "outputs": [],
   "source": [
    "# Define a matrix\n",
    "A_rotation = np.array(\n",
    "    [\n",
    "        [0, -1],\n",
    "        [1, 0]\n",
    "    ]\n",
    ")"
   ]
  },
  {
   "cell_type": "code",
   "execution_count": 13,
   "id": "bd7a5ae4",
   "metadata": {},
   "outputs": [],
   "source": [
    "# Define a vector x\n",
    "x = np.array(\n",
    "    [\n",
    "        [3],\n",
    "        [2]\n",
    "    ]\n",
    ")"
   ]
  },
  {
   "cell_type": "code",
   "execution_count": 19,
   "id": "2e51642e",
   "metadata": {},
   "outputs": [
    {
     "name": "stdout",
     "output_type": "stream",
     "text": [
      "A @ x:\n",
      " [[-2]\n",
      " [ 3]]\n"
     ]
    }
   ],
   "source": [
    "# Rotating the vector x\n",
    "y = A_rotation @ x\n",
    "print(f\"A @ x:\\n {y}\")"
   ]
  },
  {
   "cell_type": "code",
   "execution_count": null,
   "id": "c978cb0e",
   "metadata": {},
   "outputs": [],
   "source": []
  }
 ],
 "metadata": {
  "kernelspec": {
   "display_name": "Python 3",
   "language": "python",
   "name": "python3"
  },
  "language_info": {
   "codemirror_mode": {
    "name": "ipython",
    "version": 3
   },
   "file_extension": ".py",
   "mimetype": "text/x-python",
   "name": "python",
   "nbconvert_exporter": "python",
   "pygments_lexer": "ipython3",
   "version": "3.12.1"
  }
 },
 "nbformat": 4,
 "nbformat_minor": 5
}
